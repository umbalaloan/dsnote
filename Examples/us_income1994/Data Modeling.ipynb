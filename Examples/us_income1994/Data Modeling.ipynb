{
 "cells": [
  {
   "cell_type": "markdown",
   "metadata": {},
   "source": [
    "# Part 3: DATA MODELING"
   ]
  },
  {
   "cell_type": "code",
   "execution_count": 1,
   "metadata": {},
   "outputs": [],
   "source": [
    "import pandas as pd\n",
    "import matplotlib.pyplot as plt\n",
    "import numpy as np\n",
    "from sklearn.ensemble import RandomForestClassifier\n",
    "from sklearn.model_selection import train_test_split\n",
    "from sklearn.metrics import confusion_matrix\n",
    "import seaborn as sb\n",
    "from sklearn.preprocessing import LabelEncoder\n",
    "from sklearn import metrics\n",
    "from sklearn.model_selection import KFold\n",
    "from sklearn.tree import DecisionTreeClassifier\n",
    "from sklearn.metrics import classification_report\n",
    "from sklearn import tree\n",
    "from sklearn.tree import export_graphviz\n",
    "from sklearn.metrics import precision_recall_curve\n",
    "from sklearn.metrics import average_precision_score\n",
    "from sklearn.neighbors import KNeighborsClassifier"
   ]
  },
  {
   "cell_type": "code",
   "execution_count": 2,
   "metadata": {},
   "outputs": [],
   "source": [
    "cleaned_adult = pd.read_csv(\"cleaned_adult.csv\", sep = \",\")"
   ]
  },
  {
   "cell_type": "code",
   "execution_count": 3,
   "metadata": {},
   "outputs": [],
   "source": [
    "# Extract Features which may be useful in prediction Income classes\n",
    "data = cleaned_adult[['age','workclass','education','marital-status','sex','income']]"
   ]
  },
  {
   "cell_type": "markdown",
   "metadata": {},
   "source": [
    "## Data Transform"
   ]
  },
  {
   "cell_type": "markdown",
   "metadata": {},
   "source": [
    "#### Categorize Age into 4 groups: <=30, 30-45, 45-60 and >60"
   ]
  },
  {
   "cell_type": "code",
   "execution_count": 4,
   "metadata": {},
   "outputs": [
    {
     "name": "stderr",
     "output_type": "stream",
     "text": [
      "D:\\Tools\\Anacoda2\\lib\\site-packages\\ipykernel_launcher.py:1: SettingWithCopyWarning: \n",
      "A value is trying to be set on a copy of a slice from a DataFrame.\n",
      "Try using .loc[row_indexer,col_indexer] = value instead\n",
      "\n",
      "See the caveats in the documentation: http://pandas.pydata.org/pandas-docs/stable/indexing.html#indexing-view-versus-copy\n",
      "  \"\"\"Entry point for launching an IPython kernel.\n"
     ]
    }
   ],
   "source": [
    "data[\"age\"]=data[\"age\"].apply(lambda x: \"<=30\" if x<=30 else\n",
    "                              (\"30-45\" if x >30 and x<=45 else (\"45-60\" if x >45 and x <=60 else \">60\")))\n",
    "    "
   ]
  },
  {
   "cell_type": "code",
   "execution_count": 5,
   "metadata": {},
   "outputs": [
    {
     "data": {
      "text/html": [
       "<div>\n",
       "<style scoped>\n",
       "    .dataframe tbody tr th:only-of-type {\n",
       "        vertical-align: middle;\n",
       "    }\n",
       "\n",
       "    .dataframe tbody tr th {\n",
       "        vertical-align: top;\n",
       "    }\n",
       "\n",
       "    .dataframe thead th {\n",
       "        text-align: right;\n",
       "    }\n",
       "</style>\n",
       "<table border=\"1\" class=\"dataframe\">\n",
       "  <thead>\n",
       "    <tr style=\"text-align: right;\">\n",
       "      <th></th>\n",
       "      <th>age</th>\n",
       "      <th>workclass</th>\n",
       "      <th>education</th>\n",
       "      <th>marital-status</th>\n",
       "      <th>sex</th>\n",
       "      <th>income</th>\n",
       "    </tr>\n",
       "  </thead>\n",
       "  <tbody>\n",
       "    <tr>\n",
       "      <th>0</th>\n",
       "      <td>45-60</td>\n",
       "      <td>Self-emp</td>\n",
       "      <td>Bachelors</td>\n",
       "      <td>Married</td>\n",
       "      <td>Male</td>\n",
       "      <td>&lt;=50K</td>\n",
       "    </tr>\n",
       "    <tr>\n",
       "      <th>1</th>\n",
       "      <td>30-45</td>\n",
       "      <td>Private</td>\n",
       "      <td>HS-grad</td>\n",
       "      <td>Divorced</td>\n",
       "      <td>Male</td>\n",
       "      <td>&lt;=50K</td>\n",
       "    </tr>\n",
       "    <tr>\n",
       "      <th>2</th>\n",
       "      <td>45-60</td>\n",
       "      <td>Private</td>\n",
       "      <td>Before HS</td>\n",
       "      <td>Married</td>\n",
       "      <td>Male</td>\n",
       "      <td>&lt;=50K</td>\n",
       "    </tr>\n",
       "    <tr>\n",
       "      <th>3</th>\n",
       "      <td>&lt;=30</td>\n",
       "      <td>Private</td>\n",
       "      <td>Bachelors</td>\n",
       "      <td>Married</td>\n",
       "      <td>Female</td>\n",
       "      <td>&lt;=50K</td>\n",
       "    </tr>\n",
       "    <tr>\n",
       "      <th>4</th>\n",
       "      <td>30-45</td>\n",
       "      <td>Private</td>\n",
       "      <td>Post-Grad</td>\n",
       "      <td>Married</td>\n",
       "      <td>Female</td>\n",
       "      <td>&lt;=50K</td>\n",
       "    </tr>\n",
       "  </tbody>\n",
       "</table>\n",
       "</div>"
      ],
      "text/plain": [
       "     age workclass  education marital-status     sex income\n",
       "0  45-60  Self-emp  Bachelors        Married    Male  <=50K\n",
       "1  30-45   Private    HS-grad       Divorced    Male  <=50K\n",
       "2  45-60   Private  Before HS        Married    Male  <=50K\n",
       "3   <=30   Private  Bachelors        Married  Female  <=50K\n",
       "4  30-45   Private  Post-Grad        Married  Female  <=50K"
      ]
     },
     "execution_count": 5,
     "metadata": {},
     "output_type": "execute_result"
    }
   ],
   "source": [
    "dt = data[[\"age\",\"workclass\",\"education\",\"marital-status\",\"sex\", \"income\"]]\n",
    "dt.head()"
   ]
  },
  {
   "cell_type": "code",
   "execution_count": 6,
   "metadata": {},
   "outputs": [],
   "source": [
    "#dt = dt.applymap(lambda x: x.strip() if type(x) is str else x)"
   ]
  },
  {
   "cell_type": "markdown",
   "metadata": {},
   "source": [
    "#### LABEL Category variables with numeric "
   ]
  },
  {
   "cell_type": "markdown",
   "metadata": {},
   "source": [
    "The purpose of this step is to using a Number which will present for a category. So that we can use Sklearn to do Data Modeling"
   ]
  },
  {
   "cell_type": "code",
   "execution_count": 7,
   "metadata": {},
   "outputs": [],
   "source": [
    "def labelCategoryToNum(data, column_name, new_col):\n",
    "    le = LabelEncoder()\n",
    "    le.fit(data[column_name])\n",
    "    data[new_col] = le.transform(data[column_name])\n",
    "    return data"
   ]
  },
  {
   "cell_type": "code",
   "execution_count": 8,
   "metadata": {},
   "outputs": [],
   "source": [
    "dt = labelCategoryToNum(dt,\"workclass\",\"new_workclass\")"
   ]
  },
  {
   "cell_type": "code",
   "execution_count": 9,
   "metadata": {},
   "outputs": [],
   "source": [
    "dt = labelCategoryToNum(dt,\"education\",\"new_education\")"
   ]
  },
  {
   "cell_type": "code",
   "execution_count": 10,
   "metadata": {},
   "outputs": [],
   "source": [
    "dt = labelCategoryToNum(dt,\"age\",\"new_age\")"
   ]
  },
  {
   "cell_type": "code",
   "execution_count": 11,
   "metadata": {},
   "outputs": [],
   "source": [
    "dt = labelCategoryToNum(dt,\"marital-status\",\"new_marital\")"
   ]
  },
  {
   "cell_type": "code",
   "execution_count": 12,
   "metadata": {},
   "outputs": [],
   "source": [
    "dt = labelCategoryToNum(dt,\"sex\",\"new_sex\")"
   ]
  },
  {
   "cell_type": "code",
   "execution_count": 13,
   "metadata": {},
   "outputs": [],
   "source": [
    "dt = labelCategoryToNum(dt,\"income\",\"new_income\")"
   ]
  },
  {
   "cell_type": "code",
   "execution_count": 14,
   "metadata": {},
   "outputs": [
    {
     "data": {
      "text/html": [
       "<div>\n",
       "<style scoped>\n",
       "    .dataframe tbody tr th:only-of-type {\n",
       "        vertical-align: middle;\n",
       "    }\n",
       "\n",
       "    .dataframe tbody tr th {\n",
       "        vertical-align: top;\n",
       "    }\n",
       "\n",
       "    .dataframe thead th {\n",
       "        text-align: right;\n",
       "    }\n",
       "</style>\n",
       "<table border=\"1\" class=\"dataframe\">\n",
       "  <thead>\n",
       "    <tr style=\"text-align: right;\">\n",
       "      <th></th>\n",
       "      <th>age</th>\n",
       "      <th>workclass</th>\n",
       "      <th>education</th>\n",
       "      <th>marital-status</th>\n",
       "      <th>sex</th>\n",
       "      <th>income</th>\n",
       "      <th>new_workclass</th>\n",
       "      <th>new_education</th>\n",
       "      <th>new_age</th>\n",
       "      <th>new_marital</th>\n",
       "      <th>new_sex</th>\n",
       "      <th>new_income</th>\n",
       "    </tr>\n",
       "  </thead>\n",
       "  <tbody>\n",
       "    <tr>\n",
       "      <th>0</th>\n",
       "      <td>45-60</td>\n",
       "      <td>Self-emp</td>\n",
       "      <td>Bachelors</td>\n",
       "      <td>Married</td>\n",
       "      <td>Male</td>\n",
       "      <td>&lt;=50K</td>\n",
       "      <td>3</td>\n",
       "      <td>1</td>\n",
       "      <td>1</td>\n",
       "      <td>1</td>\n",
       "      <td>1</td>\n",
       "      <td>0</td>\n",
       "    </tr>\n",
       "    <tr>\n",
       "      <th>1</th>\n",
       "      <td>30-45</td>\n",
       "      <td>Private</td>\n",
       "      <td>HS-grad</td>\n",
       "      <td>Divorced</td>\n",
       "      <td>Male</td>\n",
       "      <td>&lt;=50K</td>\n",
       "      <td>2</td>\n",
       "      <td>3</td>\n",
       "      <td>0</td>\n",
       "      <td>0</td>\n",
       "      <td>1</td>\n",
       "      <td>0</td>\n",
       "    </tr>\n",
       "    <tr>\n",
       "      <th>2</th>\n",
       "      <td>45-60</td>\n",
       "      <td>Private</td>\n",
       "      <td>Before HS</td>\n",
       "      <td>Married</td>\n",
       "      <td>Male</td>\n",
       "      <td>&lt;=50K</td>\n",
       "      <td>2</td>\n",
       "      <td>2</td>\n",
       "      <td>1</td>\n",
       "      <td>1</td>\n",
       "      <td>1</td>\n",
       "      <td>0</td>\n",
       "    </tr>\n",
       "    <tr>\n",
       "      <th>3</th>\n",
       "      <td>&lt;=30</td>\n",
       "      <td>Private</td>\n",
       "      <td>Bachelors</td>\n",
       "      <td>Married</td>\n",
       "      <td>Female</td>\n",
       "      <td>&lt;=50K</td>\n",
       "      <td>2</td>\n",
       "      <td>1</td>\n",
       "      <td>2</td>\n",
       "      <td>1</td>\n",
       "      <td>0</td>\n",
       "      <td>0</td>\n",
       "    </tr>\n",
       "    <tr>\n",
       "      <th>4</th>\n",
       "      <td>30-45</td>\n",
       "      <td>Private</td>\n",
       "      <td>Post-Grad</td>\n",
       "      <td>Married</td>\n",
       "      <td>Female</td>\n",
       "      <td>&lt;=50K</td>\n",
       "      <td>2</td>\n",
       "      <td>4</td>\n",
       "      <td>0</td>\n",
       "      <td>1</td>\n",
       "      <td>0</td>\n",
       "      <td>0</td>\n",
       "    </tr>\n",
       "  </tbody>\n",
       "</table>\n",
       "</div>"
      ],
      "text/plain": [
       "     age workclass  education marital-status     sex income  new_workclass  \\\n",
       "0  45-60  Self-emp  Bachelors        Married    Male  <=50K              3   \n",
       "1  30-45   Private    HS-grad       Divorced    Male  <=50K              2   \n",
       "2  45-60   Private  Before HS        Married    Male  <=50K              2   \n",
       "3   <=30   Private  Bachelors        Married  Female  <=50K              2   \n",
       "4  30-45   Private  Post-Grad        Married  Female  <=50K              2   \n",
       "\n",
       "   new_education  new_age  new_marital  new_sex  new_income  \n",
       "0              1        1            1        1           0  \n",
       "1              3        0            0        1           0  \n",
       "2              2        1            1        1           0  \n",
       "3              1        2            1        0           0  \n",
       "4              4        0            1        0           0  "
      ]
     },
     "execution_count": 14,
     "metadata": {},
     "output_type": "execute_result"
    }
   ],
   "source": [
    "dt.head()"
   ]
  },
  {
   "cell_type": "markdown",
   "metadata": {},
   "source": [
    "# DATA MODELING"
   ]
  },
  {
   "cell_type": "code",
   "execution_count": 15,
   "metadata": {},
   "outputs": [],
   "source": [
    "# Draw Precision-Recall curve\n",
    "from sklearn.metrics import auc\n",
    "def draw_PrecRecallCurve(y_test, y_prob):\n",
    "    plt.figure()\n",
    "    avg_precision = average_precision_score(y_test,y_prob)\n",
    "    prec, recall, thresholds = precision_recall_curve(y_test, y_prob)\n",
    "    plt.step(recall, prec, color='b', alpha=0.2,\n",
    "         where='post')\n",
    "    #plt.fill_between(recall, prec, step='post', alpha=0.2,\n",
    "     #            color='b')\n",
    "\n",
    "    plt.xlabel('Recall')\n",
    "    plt.ylabel('Precision')\n",
    "    plt.ylim([0.0, 1.05])\n",
    "    plt.xlim([0.0, 1.0])\n",
    "    plt.title('2-class Precision-Recall curve: AP={0:0.2f}; AUC={0:0.2f}'.format(\n",
    "          avg_precision, auc(recall, prec)))\n",
    "    plt.show()"
   ]
  },
  {
   "cell_type": "code",
   "execution_count": 16,
   "metadata": {},
   "outputs": [],
   "source": [
    "# Draw Precision-Recall curve for K-folds in chart\n",
    "def draw_PrecRecallCurveKFolds(arr_y_test, arr_y_prob):\n",
    "    plt.figure()\n",
    "    prec, recall, thresholds = precision_recall_curve(arr_y_test,  arr_y_prob)\n",
    "    plt.plot(recall, prec, label=lab, lw=2, color='black') \n",
    "    plt.xlim([0.02, 0.99])\n",
    "    plt.ylim([0, 1.05])\n",
    "    plt.grid(True)\n",
    "    plt.xlabel('Recall')\n",
    "    plt.ylabel('Precision')\n",
    "    plt.title('Precision Recall curve, Decision Tree')\n",
    "    plt.rcParams['axes.facecolor']='white'\n",
    "    plt.legend(loc=\"lower left\")\n",
    "    plt.show()\n",
    "    "
   ]
  },
  {
   "cell_type": "code",
   "execution_count": 17,
   "metadata": {},
   "outputs": [],
   "source": [
    "# Spliting Dataset into Training and Testing\n",
    "features = [\"new_age\",\"new_workclass\",\"new_education\",\"new_marital\",\"new_sex\"]\n",
    "target = [\"new_income\"]\n",
    "X = dt[features]\n",
    "y = dt[target]\n",
    "X_train, X_test, y_train, y_test = train_test_split(X,y, random_state = 50)"
   ]
  },
  {
   "cell_type": "markdown",
   "metadata": {},
   "source": [
    "## RandomForest Classification"
   ]
  },
  {
   "cell_type": "code",
   "execution_count": 18,
   "metadata": {},
   "outputs": [
    {
     "data": {
      "text/plain": [
       "RandomForestClassifier(bootstrap=True, class_weight=None, criterion='entropy',\n",
       "            max_depth=None, max_features=5, max_leaf_nodes=None,\n",
       "            min_impurity_decrease=0.0, min_impurity_split=None,\n",
       "            min_samples_leaf=1, min_samples_split=2,\n",
       "            min_weight_fraction_leaf=0.0, n_estimators=10, n_jobs=1,\n",
       "            oob_score=False, random_state=50, verbose=0, warm_start=False)"
      ]
     },
     "execution_count": 18,
     "metadata": {},
     "output_type": "execute_result"
    }
   ],
   "source": [
    "# n_estimators is the number of trees the algorithm builds before taking the maximum voting or taking averages of predictions\n",
    "# We do training a random forest from 10 decision trees and use entropy criterion as an impurity measure to split the nodes\n",
    "rfc = RandomForestClassifier(random_state=50, n_estimators=10, max_features=5, criterion='entropy')\n",
    "rfc.fit(X_train, y_train.values.ravel())"
   ]
  },
  {
   "cell_type": "code",
   "execution_count": 19,
   "metadata": {},
   "outputs": [
    {
     "name": "stdout",
     "output_type": "stream",
     "text": [
      "Average Accuracy Score 0.8258\n",
      "Confusion Matrix\n",
      "[[8654  641]\n",
      " [1486 1430]]\n",
      "             precision    recall  f1-score   support\n",
      "\n",
      "          0       0.85      0.93      0.89      9295\n",
      "          1       0.69      0.49      0.57      2916\n",
      "\n",
      "avg / total       0.81      0.83      0.81     12211\n",
      "\n"
     ]
    },
    {
     "data": {
      "image/png": "[encoded data removed]",
      "text/plain": [
       "<matplotlib.figure.Figure at 0xe2cafd0>"
      ]
     },
     "metadata": {},
     "output_type": "display_data"
    }
   ],
   "source": [
    "y_pred = rfc.predict(X_test)\n",
    "#print y_pred\n",
    "y_prob = rfc.predict_proba(X_test)[:,1]\n",
    "print \"Average Accuracy Score {0:0.4f}\".format(rfc.score(X_test, y_test))\n",
    "print \"Confusion Matrix\"\n",
    "print confusion_matrix(y_test, y_pred)\n",
    "print classification_report(y_test,y_pred)\n",
    "draw_PrecRecallCurve(y_test, y_prob)"
   ]
  },
  {
   "cell_type": "markdown",
   "metadata": {},
   "source": [
    "#### Validation"
   ]
  },
  {
   "cell_type": "code",
   "execution_count": 20,
   "metadata": {},
   "outputs": [],
   "source": [
    "# Calculate Precision-Recall Score, F1-Score\n",
    "\n",
    "def kFoldValidation(model, dataset, target, nsplits, random_state, str_classifier_name):\n",
    "    kf = KFold(n_splits = nsplits, random_state = random_state)\n",
    "    kf.get_n_splits(dataset)\n",
    "    for i, (train_idx, test_idx) in enumerate(kf.split(dataset)): \n",
    "        print \"************ Fold {0} ************\".format(i)\n",
    "        print \"TRAIN:\"+ str(train_idx)+ \" TEST: \"+ str(test_idx)\n",
    "        X_train, X_test = dataset.loc[train_idx], dataset.loc[test_idx]\n",
    "        y_train, y_test = target.loc[train_idx], target.loc[test_idx]\n",
    "        model.fit(X_train, y_train.values.ravel())\n",
    "        y_pred = model.predict(X_test)\n",
    "        print \"[fold {0} accuracy score: {1:.5f} ]\".format(i+1, model.score(X_test, y_test))\n",
    "        print \"Confusion metric:\" \n",
    "        print confusion_matrix(y_test, y_pred)\n",
    "        print classification_report(y_test,y_pred)\n",
    "        y_prob = model.predict_proba(X_test)\n",
    "        prec, recall, thresholds = precision_recall_curve(y_test, y_prob[:,1])\n",
    "        lab = 'fold %d (AUC=%0.2f)'% (i, auc(recall, prec))\n",
    "        plt.plot(recall, prec, lw=1, label=lab)\n",
    "        #draw_PrecRecallCurve(y_test, y_pred)\n",
    "        plt.xlim([0.02, 0.99])\n",
    "        plt.ylim([0, 1.05])\n",
    "        plt.grid(True)\n",
    "        plt.xlabel('Recall')\n",
    "        plt.ylabel('Precision')\n",
    "        plt.title('Precision Recall curve - '+ str(str_classifier_name))\n",
    "        plt.rcParams['axes.facecolor']='white'\n",
    "        plt.legend(loc=\"lower left\")\n",
    "        "
   ]
  },
  {
   "cell_type": "code",
   "execution_count": 21,
   "metadata": {},
   "outputs": [
    {
     "name": "stdout",
     "output_type": "stream",
     "text": [
      "************ Fold 0 ************\n",
      "TRAIN:[ 9769  9770  9771 ... 48838 48839 48840] TEST: [   0    1    2 ... 9766 9767 9768]\n",
      "[fold 1 accuracy score: 0.81922 ]\n",
      "Confusion metric:\n",
      "[[6890  556]\n",
      " [1210 1113]]\n",
      "             precision    recall  f1-score   support\n",
      "\n",
      "          0       0.85      0.93      0.89      7446\n",
      "          1       0.67      0.48      0.56      2323\n",
      "\n",
      "avg / total       0.81      0.82      0.81      9769\n",
      "\n",
      "************ Fold 1 ************\n",
      "TRAIN:[    0     1     2 ... 48838 48839 48840] TEST: [ 9769  9770  9771 ... 19534 19535 19536]\n",
      "[fold 2 accuracy score: 0.82187 ]\n",
      "Confusion metric:\n",
      "[[6894  534]\n",
      " [1206 1134]]\n",
      "             precision    recall  f1-score   support\n",
      "\n",
      "          0       0.85      0.93      0.89      7428\n",
      "          1       0.68      0.48      0.57      2340\n",
      "\n",
      "avg / total       0.81      0.82      0.81      9768\n",
      "\n",
      "************ Fold 2 ************\n",
      "TRAIN:[    0     1     2 ... 48838 48839 48840] TEST: [19537 19538 19539 ... 29302 29303 29304]\n",
      "[fold 3 accuracy score: 0.82494 ]\n",
      "Confusion metric:\n",
      "[[6929  465]\n",
      " [1245 1129]]\n",
      "             precision    recall  f1-score   support\n",
      "\n",
      "          0       0.85      0.94      0.89      7394\n",
      "          1       0.71      0.48      0.57      2374\n",
      "\n",
      "avg / total       0.81      0.82      0.81      9768\n",
      "\n",
      "************ Fold 3 ************\n",
      "TRAIN:[    0     1     2 ... 48838 48839 48840] TEST: [29305 29306 29307 ... 39070 39071 39072]\n",
      "[fold 4 accuracy score: 0.81828 ]\n",
      "Confusion metric:\n",
      "[[6880  547]\n",
      " [1228 1113]]\n",
      "             precision    recall  f1-score   support\n",
      "\n",
      "          0       0.85      0.93      0.89      7427\n",
      "          1       0.67      0.48      0.56      2341\n",
      "\n",
      "avg / total       0.81      0.82      0.81      9768\n",
      "\n",
      "************ Fold 4 ************\n",
      "TRAIN:[    0     1     2 ... 39070 39071 39072] TEST: [39073 39074 39075 ... 48838 48839 48840]\n",
      "[fold 5 accuracy score: 0.82596 ]\n",
      "Confusion metric:\n",
      "[[6920  539]\n",
      " [1161 1148]]\n",
      "             precision    recall  f1-score   support\n",
      "\n",
      "          0       0.86      0.93      0.89      7459\n",
      "          1       0.68      0.50      0.57      2309\n",
      "\n",
      "avg / total       0.81      0.83      0.82      9768\n",
      "\n"
     ]
    },
    {
     "data": {
      "image/png": "[encoded data removed]",
      "text/plain": [
       "<matplotlib.figure.Figure at 0xe560ac8>"
      ]
     },
     "metadata": {},
     "output_type": "display_data"
    }
   ],
   "source": [
    "# Using 5-Folds Cross validation to check the result of model\n",
    "kFoldValidation(rfc,X,y,5,50,\"Random Forest\")\n"
   ]
  },
  {
   "cell_type": "markdown",
   "metadata": {},
   "source": [
    "## Decision Tree"
   ]
  },
  {
   "cell_type": "code",
   "execution_count": 22,
   "metadata": {},
   "outputs": [
    {
     "name": "stdout",
     "output_type": "stream",
     "text": [
      "Average Accuracy Score 0.8255\n",
      "[[8667  628]\n",
      " [1503 1413]]\n",
      "             precision    recall  f1-score   support\n",
      "\n",
      "          0       0.85      0.93      0.89      9295\n",
      "          1       0.69      0.48      0.57      2916\n",
      "\n",
      "avg / total       0.81      0.83      0.81     12211\n",
      "\n"
     ]
    },
    {
     "data": {
      "image/png": "[encoded data removed]",
      "text/plain": [
       "<matplotlib.figure.Figure at 0xe12da20>"
      ]
     },
     "metadata": {},
     "output_type": "display_data"
    }
   ],
   "source": [
    "# Traning Decision Tree model\n",
    "clf = DecisionTreeClassifier(random_state=50)\n",
    "clf.fit(X_train, y_train)\n",
    "y_pred = clf.predict(X_test)\n",
    "y_prob = clf.predict_proba(X_test)[:,1]\n",
    "print \"Average Accuracy Score {0:0.4f}\".format(clf.score(X_test, y_test))\n",
    "print confusion_matrix(y_test, y_pred)\n",
    "print classification_report(y_test,y_pred)\n",
    "draw_PrecRecallCurve(y_test, y_prob)"
   ]
  },
  {
   "cell_type": "code",
   "execution_count": 23,
   "metadata": {},
   "outputs": [],
   "source": [
    "# Export Decision Tree which are built with this model\n",
    "with open('adult_tree.dot', 'w') as f:\n",
    "    f = tree.export_graphviz(clf, out_file=f, feature_names= features, class_names=['<=50K','>50K'], filled = True, rounded = True,\n",
    "                            special_characters=True)"
   ]
  },
  {
   "cell_type": "markdown",
   "metadata": {},
   "source": [
    "#### Validation"
   ]
  },
  {
   "cell_type": "code",
   "execution_count": 24,
   "metadata": {},
   "outputs": [
    {
     "name": "stdout",
     "output_type": "stream",
     "text": [
      "************ Fold 0 ************\n",
      "TRAIN:[ 9769  9770  9771 ... 48838 48839 48840] TEST: [   0    1    2 ... 9766 9767 9768]\n",
      "[fold 1 accuracy score: 0.81974 ]\n",
      "Confusion metric:\n",
      "[[6900  546]\n",
      " [1215 1108]]\n",
      "             precision    recall  f1-score   support\n",
      "\n",
      "          0       0.85      0.93      0.89      7446\n",
      "          1       0.67      0.48      0.56      2323\n",
      "\n",
      "avg / total       0.81      0.82      0.81      9769\n",
      "\n",
      "************ Fold 1 ************\n",
      "TRAIN:[    0     1     2 ... 48838 48839 48840] TEST: [ 9769  9770  9771 ... 19534 19535 19536]\n",
      "[fold 2 accuracy score: 0.82115 ]\n",
      "Confusion metric:\n",
      "[[6871  557]\n",
      " [1190 1150]]\n",
      "             precision    recall  f1-score   support\n",
      "\n",
      "          0       0.85      0.93      0.89      7428\n",
      "          1       0.67      0.49      0.57      2340\n",
      "\n",
      "avg / total       0.81      0.82      0.81      9768\n",
      "\n",
      "************ Fold 2 ************\n",
      "TRAIN:[    0     1     2 ... 48838 48839 48840] TEST: [19537 19538 19539 ... 29302 29303 29304]\n",
      "[fold 3 accuracy score: 0.82545 ]\n",
      "Confusion metric:\n",
      "[[6928  466]\n",
      " [1239 1135]]\n",
      "             precision    recall  f1-score   support\n",
      "\n",
      "          0       0.85      0.94      0.89      7394\n",
      "          1       0.71      0.48      0.57      2374\n",
      "\n",
      "avg / total       0.81      0.83      0.81      9768\n",
      "\n",
      "************ Fold 3 ************\n",
      "TRAIN:[    0     1     2 ... 48838 48839 48840] TEST: [29305 29306 29307 ... 39070 39071 39072]\n",
      "[fold 4 accuracy score: 0.81941 ]\n",
      "Confusion metric:\n",
      "[[6890  537]\n",
      " [1227 1114]]\n",
      "             precision    recall  f1-score   support\n",
      "\n",
      "          0       0.85      0.93      0.89      7427\n",
      "          1       0.67      0.48      0.56      2341\n",
      "\n",
      "avg / total       0.81      0.82      0.81      9768\n",
      "\n",
      "************ Fold 4 ************\n",
      "TRAIN:[    0     1     2 ... 39070 39071 39072] TEST: [39073 39074 39075 ... 48838 48839 48840]\n",
      "[fold 5 accuracy score: 0.82729 ]\n",
      "Confusion metric:\n",
      "[[6946  513]\n",
      " [1174 1135]]\n",
      "             precision    recall  f1-score   support\n",
      "\n",
      "          0       0.86      0.93      0.89      7459\n",
      "          1       0.69      0.49      0.57      2309\n",
      "\n",
      "avg / total       0.82      0.83      0.82      9768\n",
      "\n"
     ]
    },
    {
     "data": {
      "image/png": "[encoded data removed]",
      "text/plain": [
       "<matplotlib.figure.Figure at 0x12c3e9e8>"
      ]
     },
     "metadata": {},
     "output_type": "display_data"
    }
   ],
   "source": [
    "kFoldValidation(clf,X,y,5,50, \"Decision Tree\")"
   ]
  },
  {
   "cell_type": "markdown",
   "metadata": {},
   "source": [
    "## KNN"
   ]
  },
  {
   "cell_type": "markdown",
   "metadata": {},
   "source": [
    "##### Change n_neighbors from 3 to 10 to see what happening in KNN result "
   ]
  },
  {
   "cell_type": "code",
   "execution_count": 25,
   "metadata": {},
   "outputs": [
    {
     "name": "stdout",
     "output_type": "stream",
     "text": [
      "****** K = 3 ********\n",
      "Confusion Matrix\n",
      "[[8083 1212]\n",
      " [1341 1575]]\n",
      "             precision    recall  f1-score   support\n",
      "\n",
      "          0       0.86      0.87      0.86      9295\n",
      "          1       0.57      0.54      0.55      2916\n",
      "\n",
      "avg / total       0.79      0.79      0.79     12211\n",
      "\n",
      "Average Accuracy Score 0.7909\n",
      "****** K = 4 ********\n",
      "Confusion Matrix\n",
      "[[8855  440]\n",
      " [1926  990]]\n",
      "             precision    recall  f1-score   support\n",
      "\n",
      "          0       0.82      0.95      0.88      9295\n",
      "          1       0.69      0.34      0.46      2916\n",
      "\n",
      "avg / total       0.79      0.81      0.78     12211\n",
      "\n",
      "Average Accuracy Score 0.8062\n",
      "****** K = 5 ********\n",
      "Confusion Matrix\n",
      "[[8068 1227]\n",
      " [1099 1817]]\n",
      "             precision    recall  f1-score   support\n",
      "\n",
      "          0       0.88      0.87      0.87      9295\n",
      "          1       0.60      0.62      0.61      2916\n",
      "\n",
      "avg / total       0.81      0.81      0.81     12211\n",
      "\n",
      "Average Accuracy Score 0.8095\n",
      "****** K = 6 ********\n",
      "Confusion Matrix\n",
      "[[8578  717]\n",
      " [1524 1392]]\n",
      "             precision    recall  f1-score   support\n",
      "\n",
      "          0       0.85      0.92      0.88      9295\n",
      "          1       0.66      0.48      0.55      2916\n",
      "\n",
      "avg / total       0.80      0.82      0.81     12211\n",
      "\n",
      "Average Accuracy Score 0.8165\n",
      "****** K = 7 ********\n",
      "Confusion Matrix\n",
      "[[8365  930]\n",
      " [1269 1647]]\n",
      "             precision    recall  f1-score   support\n",
      "\n",
      "          0       0.87      0.90      0.88      9295\n",
      "          1       0.64      0.56      0.60      2916\n",
      "\n",
      "avg / total       0.81      0.82      0.82     12211\n",
      "\n",
      "Average Accuracy Score 0.8199\n",
      "****** K = 8 ********\n",
      "Confusion Matrix\n",
      "[[8552  743]\n",
      " [1464 1452]]\n",
      "             precision    recall  f1-score   support\n",
      "\n",
      "          0       0.85      0.92      0.89      9295\n",
      "          1       0.66      0.50      0.57      2916\n",
      "\n",
      "avg / total       0.81      0.82      0.81     12211\n",
      "\n",
      "Average Accuracy Score 0.8193\n",
      "****** K = 9 ********\n",
      "Confusion Matrix\n",
      "[[8450  845]\n",
      " [1351 1565]]\n",
      "             precision    recall  f1-score   support\n",
      "\n",
      "          0       0.86      0.91      0.89      9295\n",
      "          1       0.65      0.54      0.59      2916\n",
      "\n",
      "avg / total       0.81      0.82      0.81     12211\n",
      "\n",
      "Average Accuracy Score 0.8202\n"
     ]
    },
    {
     "data": {
      "image/png": "[encoded data removed]",
      "text/plain": [
       "<matplotlib.figure.Figure at 0xe4e8400>"
      ]
     },
     "metadata": {},
     "output_type": "display_data"
    }
   ],
   "source": [
    "# Change n_neighbors from 3 to 10 to see what happening\n",
    "for i in range(3,10):\n",
    "    knn = KNeighborsClassifier(n_neighbors=i)\n",
    "    knn.fit(X_train, y_train.values.ravel())\n",
    "    y_pred = knn.predict(X_test)\n",
    "    y_prob = knn.predict_proba(X_test)[:,1]\n",
    "    print \"****** K = {0} ********\".format(i)\n",
    "    print \"Confusion Matrix\"\n",
    "    print confusion_matrix(y_test, y_pred)\n",
    "    print classification_report(y_test,y_pred)\n",
    "    print \"Average Accuracy Score {0:0.4f}\".format(knn.score(X_test, y_test))\n",
    "    prec, recall, thresholds = precision_recall_curve(y_test, y_prob)\n",
    "    lab = 'K=%d (AUC=%0.2f)'% (i, auc(recall, prec))\n",
    "    plt.plot(recall, prec, lw=1, label=lab)\n",
    "    plt.xlim([0.02, 0.99])\n",
    "    plt.ylim([0, 1.05])\n",
    "    plt.grid(True)\n",
    "    plt.xlabel('Recall')\n",
    "    plt.ylabel('Precision')\n",
    "    plt.title('Precision Recall curve, KNN with changes of n-neighbor')\n",
    "    plt.rcParams['axes.facecolor']='white'\n",
    "    plt.legend(loc=\"lower left\")\n",
    "    "
   ]
  },
  {
   "cell_type": "markdown",
   "metadata": {},
   "source": [
    "##### Build KNN with n_neighbors =5"
   ]
  },
  {
   "cell_type": "code",
   "execution_count": 26,
   "metadata": {},
   "outputs": [
    {
     "name": "stdout",
     "output_type": "stream",
     "text": [
      "Average Accuracy Score 0.8284\n",
      "Confusion Matrix\n",
      "[[8068 1227]\n",
      " [1099 1817]]\n",
      "             precision    recall  f1-score   support\n",
      "\n",
      "          0       0.88      0.87      0.87      9295\n",
      "          1       0.60      0.62      0.61      2916\n",
      "\n",
      "avg / total       0.81      0.81      0.81     12211\n",
      "\n"
     ]
    },
    {
     "data": {
      "image/png": "[encoded data removed]",
      "text/plain": [
       "<matplotlib.figure.Figure at 0x130af9b0>"
      ]
     },
     "metadata": {},
     "output_type": "display_data"
    }
   ],
   "source": [
    "knn = KNeighborsClassifier(n_neighbors=5)\n",
    "knn.fit(X_train, y_train.values.ravel())\n",
    "y_pred = knn.predict(X_test)\n",
    "y_prob = knn.predict_proba(X_test)[:,1]\n",
    "print \"Average Accuracy Score {0:0.4f}\".format(clf.score(X_test, y_test))\n",
    "print \"Confusion Matrix\"\n",
    "print confusion_matrix(y_test, y_pred)\n",
    "print classification_report(y_test,y_pred)\n",
    "draw_PrecRecallCurve(y_test, y_prob)"
   ]
  },
  {
   "cell_type": "markdown",
   "metadata": {},
   "source": [
    "##### Validation"
   ]
  },
  {
   "cell_type": "code",
   "execution_count": 27,
   "metadata": {},
   "outputs": [
    {
     "name": "stdout",
     "output_type": "stream",
     "text": [
      "************ Fold 0 ************\n",
      "TRAIN:[ 9769  9770  9771 ... 48838 48839 48840] TEST: [   0    1    2 ... 9766 9767 9768]\n",
      "[fold 1 accuracy score: 0.79251 ]\n",
      "Confusion metric:\n",
      "[[6426 1020]\n",
      " [1007 1316]]\n",
      "             precision    recall  f1-score   support\n",
      "\n",
      "          0       0.86      0.86      0.86      7446\n",
      "          1       0.56      0.57      0.56      2323\n",
      "\n",
      "avg / total       0.79      0.79      0.79      9769\n",
      "\n",
      "************ Fold 1 ************\n",
      "TRAIN:[    0     1     2 ... 48838 48839 48840] TEST: [ 9769  9770  9771 ... 19534 19535 19536]\n",
      "[fold 2 accuracy score: 0.80180 ]\n",
      "Confusion metric:\n",
      "[[6477  951]\n",
      " [ 985 1355]]\n",
      "             precision    recall  f1-score   support\n",
      "\n",
      "          0       0.87      0.87      0.87      7428\n",
      "          1       0.59      0.58      0.58      2340\n",
      "\n",
      "avg / total       0.80      0.80      0.80      9768\n",
      "\n",
      "************ Fold 2 ************\n",
      "TRAIN:[    0     1     2 ... 48838 48839 48840] TEST: [19537 19538 19539 ... 29302 29303 29304]\n",
      "[fold 3 accuracy score: 0.78675 ]\n",
      "Confusion metric:\n",
      "[[6528  866]\n",
      " [1217 1157]]\n",
      "             precision    recall  f1-score   support\n",
      "\n",
      "          0       0.84      0.88      0.86      7394\n",
      "          1       0.57      0.49      0.53      2374\n",
      "\n",
      "avg / total       0.78      0.79      0.78      9768\n",
      "\n",
      "************ Fold 3 ************\n",
      "TRAIN:[    0     1     2 ... 48838 48839 48840] TEST: [29305 29306 29307 ... 39070 39071 39072]\n",
      "[fold 4 accuracy score: 0.79658 ]\n",
      "Confusion metric:\n",
      "[[6697  730]\n",
      " [1257 1084]]\n",
      "             precision    recall  f1-score   support\n",
      "\n",
      "          0       0.84      0.90      0.87      7427\n",
      "          1       0.60      0.46      0.52      2341\n",
      "\n",
      "avg / total       0.78      0.80      0.79      9768\n",
      "\n",
      "************ Fold 4 ************\n",
      "TRAIN:[    0     1     2 ... 39070 39071 39072] TEST: [39073 39074 39075 ... 48838 48839 48840]\n",
      "[fold 5 accuracy score: 0.80938 ]\n",
      "Confusion metric:\n",
      "[[6615  844]\n",
      " [1018 1291]]\n",
      "             precision    recall  f1-score   support\n",
      "\n",
      "          0       0.87      0.89      0.88      7459\n",
      "          1       0.60      0.56      0.58      2309\n",
      "\n",
      "avg / total       0.80      0.81      0.81      9768\n",
      "\n"
     ]
    },
    {
     "data": {
      "image/png": "[encoded data removed]",
      "text/plain": [
       "<matplotlib.figure.Figure at 0x130c1b00>"
      ]
     },
     "metadata": {},
     "output_type": "display_data"
    }
   ],
   "source": [
    "knn = KNeighborsClassifier(n_neighbors=5)\n",
    "kFoldValidation(knn,X,y,5,50, \"KNN\")"
   ]
  }
 ],
 "metadata": {
  "kernelspec": {
   "display_name": "Python 2",
   "language": "python",
   "name": "python2"
  },
  "language_info": {
   "codemirror_mode": {
    "name": "ipython",
    "version": 2
   },
   "file_extension": ".py",
   "mimetype": "text/x-python",
   "name": "python",
   "nbconvert_exporter": "python",
   "pygments_lexer": "ipython2",
   "version": "2.7.14"
  }
 },
 "nbformat": 4,
 "nbformat_minor": 2
}
